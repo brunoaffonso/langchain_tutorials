{
 "cells": [
  {
   "metadata": {
    "ExecuteTime": {
     "end_time": "2024-10-14T22:33:25.286016Z",
     "start_time": "2024-10-14T22:33:07.156429Z"
    }
   },
   "cell_type": "code",
   "source": "%pip install -U langchain-community langgraph langchain-anthropic tavily-python langgraph-checkpoint-sqlite",
   "id": "1077cbe63a58be1c",
   "outputs": [
    {
     "name": "stdout",
     "output_type": "stream",
     "text": [
      "Requirement already satisfied: langchain-community in ./.venv/lib/python3.12/site-packages (0.3.1)\r\n",
      "Collecting langchain-community\r\n",
      "  Obtaining dependency information for langchain-community from https://files.pythonhosted.org/packages/cc/57/a8b4826eaa29d3663c957251ab32275a0c178bdb0e262a1204ed820f430c/langchain_community-0.3.2-py3-none-any.whl.metadata\r\n",
      "  Downloading langchain_community-0.3.2-py3-none-any.whl.metadata (2.8 kB)\r\n",
      "Collecting langgraph\r\n",
      "  Obtaining dependency information for langgraph from https://files.pythonhosted.org/packages/23/1b/8e1ccc05c0672d7b7a14f402d9e19ea152e37628dc4682b2c4be077b8191/langgraph-0.2.36-py3-none-any.whl.metadata\r\n",
      "  Downloading langgraph-0.2.36-py3-none-any.whl.metadata (13 kB)\r\n",
      "Collecting langchain-anthropic\r\n",
      "  Obtaining dependency information for langchain-anthropic from https://files.pythonhosted.org/packages/5b/5d/9e69dc120e41beb7bf36c68c260563a6fe16944a7640297d5c272a79c09b/langchain_anthropic-0.2.3-py3-none-any.whl.metadata\r\n",
      "  Downloading langchain_anthropic-0.2.3-py3-none-any.whl.metadata (2.3 kB)\r\n",
      "Collecting tavily-python\r\n",
      "  Obtaining dependency information for tavily-python from https://files.pythonhosted.org/packages/90/99/05776f7150a5b3f8d853377144a3a634131964c0fce38307537674a9a674/tavily_python-0.5.0-py3-none-any.whl.metadata\r\n",
      "  Downloading tavily_python-0.5.0-py3-none-any.whl.metadata (11 kB)\r\n",
      "Collecting langgraph-checkpoint-sqlite\r\n",
      "  Obtaining dependency information for langgraph-checkpoint-sqlite from https://files.pythonhosted.org/packages/7e/4e/61d4ae86a9a0066875c0235f0cedb0919c22d30e67c3e7e4d54f431dcb33/langgraph_checkpoint_sqlite-2.0.0-py3-none-any.whl.metadata\r\n",
      "  Downloading langgraph_checkpoint_sqlite-2.0.0-py3-none-any.whl.metadata (3.0 kB)\r\n",
      "Requirement already satisfied: PyYAML>=5.3 in ./.venv/lib/python3.12/site-packages (from langchain-community) (6.0.2)\r\n",
      "Requirement already satisfied: SQLAlchemy<3,>=1.4 in ./.venv/lib/python3.12/site-packages (from langchain-community) (2.0.35)\r\n",
      "Requirement already satisfied: aiohttp<4.0.0,>=3.8.3 in ./.venv/lib/python3.12/site-packages (from langchain-community) (3.10.9)\r\n",
      "Requirement already satisfied: dataclasses-json<0.7,>=0.5.7 in ./.venv/lib/python3.12/site-packages (from langchain-community) (0.6.7)\r\n",
      "Collecting langchain<0.4.0,>=0.3.3 (from langchain-community)\r\n",
      "  Obtaining dependency information for langchain<0.4.0,>=0.3.3 from https://files.pythonhosted.org/packages/92/82/c17abaa44074ec716409305da4783f633b0eb9b09bb28ed5005220269bdb/langchain-0.3.3-py3-none-any.whl.metadata\r\n",
      "  Downloading langchain-0.3.3-py3-none-any.whl.metadata (7.1 kB)\r\n",
      "Collecting langchain-core<0.4.0,>=0.3.10 (from langchain-community)\r\n",
      "  Obtaining dependency information for langchain-core<0.4.0,>=0.3.10 from https://files.pythonhosted.org/packages/6f/bb/47b0b961a0b58a36e494a3f4d853b76afa12fb7cc2f0700f100681b2a824/langchain_core-0.3.10-py3-none-any.whl.metadata\r\n",
      "  Downloading langchain_core-0.3.10-py3-none-any.whl.metadata (6.3 kB)\r\n",
      "Requirement already satisfied: langsmith<0.2.0,>=0.1.125 in ./.venv/lib/python3.12/site-packages (from langchain-community) (0.1.131)\r\n",
      "Requirement already satisfied: numpy<2.0.0,>=1.26.0 in ./.venv/lib/python3.12/site-packages (from langchain-community) (1.26.4)\r\n",
      "Requirement already satisfied: pydantic-settings<3.0.0,>=2.4.0 in ./.venv/lib/python3.12/site-packages (from langchain-community) (2.5.2)\r\n",
      "Requirement already satisfied: requests<3,>=2 in ./.venv/lib/python3.12/site-packages (from langchain-community) (2.32.3)\r\n",
      "Requirement already satisfied: tenacity!=8.4.0,<9.0.0,>=8.1.0 in ./.venv/lib/python3.12/site-packages (from langchain-community) (8.5.0)\r\n",
      "Collecting langgraph-checkpoint<3.0.0,>=2.0.0 (from langgraph)\r\n",
      "  Obtaining dependency information for langgraph-checkpoint<3.0.0,>=2.0.0 from https://files.pythonhosted.org/packages/de/21/71950ea28cd66fcc192ad2f9117d157ae674cdf9c00e65fb18a67bedf5a6/langgraph_checkpoint-2.0.1-py3-none-any.whl.metadata\r\n",
      "  Downloading langgraph_checkpoint-2.0.1-py3-none-any.whl.metadata (4.6 kB)\r\n",
      "Collecting langgraph-sdk<0.2.0,>=0.1.32 (from langgraph)\r\n",
      "  Obtaining dependency information for langgraph-sdk<0.2.0,>=0.1.32 from https://files.pythonhosted.org/packages/c2/06/159d619a92019e6c3323526b9ab1776e451dd0a97bc0e21d3da9016cc2dd/langgraph_sdk-0.1.33-py3-none-any.whl.metadata\r\n",
      "  Downloading langgraph_sdk-0.1.33-py3-none-any.whl.metadata (1.8 kB)\r\n",
      "Collecting anthropic<1,>=0.30.0 (from langchain-anthropic)\r\n",
      "  Obtaining dependency information for anthropic<1,>=0.30.0 from https://files.pythonhosted.org/packages/ec/95/ac436a7ddfce2326d0bdf7d73a93b1b5589a2ac6ab6a519100972c5e9e2c/anthropic-0.36.0-py3-none-any.whl.metadata\r\n",
      "  Downloading anthropic-0.36.0-py3-none-any.whl.metadata (21 kB)\r\n",
      "Requirement already satisfied: defusedxml<0.8.0,>=0.7.1 in ./.venv/lib/python3.12/site-packages (from langchain-anthropic) (0.7.1)\r\n",
      "Requirement already satisfied: pydantic<3.0.0,>=2.7.4 in ./.venv/lib/python3.12/site-packages (from langchain-anthropic) (2.9.2)\r\n",
      "Requirement already satisfied: tiktoken>=0.5.1 in ./.venv/lib/python3.12/site-packages (from tavily-python) (0.8.0)\r\n",
      "Requirement already satisfied: httpx in ./.venv/lib/python3.12/site-packages (from tavily-python) (0.27.2)\r\n",
      "Collecting aiosqlite<0.21.0,>=0.20.0 (from langgraph-checkpoint-sqlite)\r\n",
      "  Obtaining dependency information for aiosqlite<0.21.0,>=0.20.0 from https://files.pythonhosted.org/packages/00/c4/c93eb22025a2de6b83263dfe3d7df2e19138e345bca6f18dba7394120930/aiosqlite-0.20.0-py3-none-any.whl.metadata\r\n",
      "  Downloading aiosqlite-0.20.0-py3-none-any.whl.metadata (4.3 kB)\r\n",
      "Requirement already satisfied: aiohappyeyeballs>=2.3.0 in ./.venv/lib/python3.12/site-packages (from aiohttp<4.0.0,>=3.8.3->langchain-community) (2.4.3)\r\n",
      "Requirement already satisfied: aiosignal>=1.1.2 in ./.venv/lib/python3.12/site-packages (from aiohttp<4.0.0,>=3.8.3->langchain-community) (1.3.1)\r\n",
      "Requirement already satisfied: attrs>=17.3.0 in ./.venv/lib/python3.12/site-packages (from aiohttp<4.0.0,>=3.8.3->langchain-community) (24.2.0)\r\n",
      "Requirement already satisfied: frozenlist>=1.1.1 in ./.venv/lib/python3.12/site-packages (from aiohttp<4.0.0,>=3.8.3->langchain-community) (1.4.1)\r\n",
      "Requirement already satisfied: multidict<7.0,>=4.5 in ./.venv/lib/python3.12/site-packages (from aiohttp<4.0.0,>=3.8.3->langchain-community) (6.1.0)\r\n",
      "Requirement already satisfied: yarl<2.0,>=1.12.0 in ./.venv/lib/python3.12/site-packages (from aiohttp<4.0.0,>=3.8.3->langchain-community) (1.13.1)\r\n",
      "Requirement already satisfied: typing_extensions>=4.0 in ./.venv/lib/python3.12/site-packages (from aiosqlite<0.21.0,>=0.20.0->langgraph-checkpoint-sqlite) (4.12.2)\r\n",
      "Requirement already satisfied: anyio<5,>=3.5.0 in ./.venv/lib/python3.12/site-packages (from anthropic<1,>=0.30.0->langchain-anthropic) (4.6.0)\r\n",
      "Requirement already satisfied: distro<2,>=1.7.0 in ./.venv/lib/python3.12/site-packages (from anthropic<1,>=0.30.0->langchain-anthropic) (1.9.0)\r\n",
      "Requirement already satisfied: jiter<1,>=0.4.0 in ./.venv/lib/python3.12/site-packages (from anthropic<1,>=0.30.0->langchain-anthropic) (0.5.0)\r\n",
      "Requirement already satisfied: sniffio in ./.venv/lib/python3.12/site-packages (from anthropic<1,>=0.30.0->langchain-anthropic) (1.3.1)\r\n",
      "Requirement already satisfied: tokenizers>=0.13.0 in ./.venv/lib/python3.12/site-packages (from anthropic<1,>=0.30.0->langchain-anthropic) (0.20.0)\r\n",
      "Requirement already satisfied: marshmallow<4.0.0,>=3.18.0 in ./.venv/lib/python3.12/site-packages (from dataclasses-json<0.7,>=0.5.7->langchain-community) (3.22.0)\r\n",
      "Requirement already satisfied: typing-inspect<1,>=0.4.0 in ./.venv/lib/python3.12/site-packages (from dataclasses-json<0.7,>=0.5.7->langchain-community) (0.9.0)\r\n",
      "Requirement already satisfied: certifi in ./.venv/lib/python3.12/site-packages (from httpx->tavily-python) (2024.8.30)\r\n",
      "Requirement already satisfied: httpcore==1.* in ./.venv/lib/python3.12/site-packages (from httpx->tavily-python) (1.0.6)\r\n",
      "Requirement already satisfied: idna in ./.venv/lib/python3.12/site-packages (from httpx->tavily-python) (3.10)\r\n",
      "Requirement already satisfied: h11<0.15,>=0.13 in ./.venv/lib/python3.12/site-packages (from httpcore==1.*->httpx->tavily-python) (0.14.0)\r\n",
      "Requirement already satisfied: langchain-text-splitters<0.4.0,>=0.3.0 in ./.venv/lib/python3.12/site-packages (from langchain<0.4.0,>=0.3.3->langchain-community) (0.3.0)\r\n",
      "Requirement already satisfied: jsonpatch<2.0,>=1.33 in ./.venv/lib/python3.12/site-packages (from langchain-core<0.4.0,>=0.3.10->langchain-community) (1.33)\r\n",
      "Requirement already satisfied: packaging<25,>=23.2 in ./.venv/lib/python3.12/site-packages (from langchain-core<0.4.0,>=0.3.10->langchain-community) (24.1)\r\n",
      "Collecting msgpack<2.0.0,>=1.1.0 (from langgraph-checkpoint<3.0.0,>=2.0.0->langgraph)\r\n",
      "  Obtaining dependency information for msgpack<2.0.0,>=1.1.0 from https://files.pythonhosted.org/packages/f1/54/65af8de681fa8255402c80eda2a501ba467921d5a7a028c9c22a2c2eedb5/msgpack-1.1.0-cp312-cp312-manylinux_2_17_x86_64.manylinux2014_x86_64.whl.metadata\r\n",
      "  Using cached msgpack-1.1.0-cp312-cp312-manylinux_2_17_x86_64.manylinux2014_x86_64.whl.metadata (8.4 kB)\r\n",
      "Collecting httpx-sse>=0.4.0 (from langgraph-sdk<0.2.0,>=0.1.32->langgraph)\r\n",
      "  Obtaining dependency information for httpx-sse>=0.4.0 from https://files.pythonhosted.org/packages/e1/9b/a181f281f65d776426002f330c31849b86b31fc9d848db62e16f03ff739f/httpx_sse-0.4.0-py3-none-any.whl.metadata\r\n",
      "  Downloading httpx_sse-0.4.0-py3-none-any.whl.metadata (9.0 kB)\r\n",
      "Requirement already satisfied: orjson>=3.10.1 in ./.venv/lib/python3.12/site-packages (from langgraph-sdk<0.2.0,>=0.1.32->langgraph) (3.10.7)\r\n",
      "Requirement already satisfied: requests-toolbelt<2.0.0,>=1.0.0 in ./.venv/lib/python3.12/site-packages (from langsmith<0.2.0,>=0.1.125->langchain-community) (1.0.0)\r\n",
      "Requirement already satisfied: annotated-types>=0.6.0 in ./.venv/lib/python3.12/site-packages (from pydantic<3.0.0,>=2.7.4->langchain-anthropic) (0.7.0)\r\n",
      "Requirement already satisfied: pydantic-core==2.23.4 in ./.venv/lib/python3.12/site-packages (from pydantic<3.0.0,>=2.7.4->langchain-anthropic) (2.23.4)\r\n",
      "Requirement already satisfied: python-dotenv>=0.21.0 in ./.venv/lib/python3.12/site-packages (from pydantic-settings<3.0.0,>=2.4.0->langchain-community) (1.0.1)\r\n",
      "Requirement already satisfied: charset-normalizer<4,>=2 in ./.venv/lib/python3.12/site-packages (from requests<3,>=2->langchain-community) (3.3.2)\r\n",
      "Requirement already satisfied: urllib3<3,>=1.21.1 in ./.venv/lib/python3.12/site-packages (from requests<3,>=2->langchain-community) (2.2.3)\r\n",
      "Requirement already satisfied: greenlet!=0.4.17 in ./.venv/lib/python3.12/site-packages (from SQLAlchemy<3,>=1.4->langchain-community) (3.1.1)\r\n",
      "Requirement already satisfied: regex>=2022.1.18 in ./.venv/lib/python3.12/site-packages (from tiktoken>=0.5.1->tavily-python) (2024.9.11)\r\n",
      "Requirement already satisfied: jsonpointer>=1.9 in ./.venv/lib/python3.12/site-packages (from jsonpatch<2.0,>=1.33->langchain-core<0.4.0,>=0.3.10->langchain-community) (3.0.0)\r\n",
      "Requirement already satisfied: huggingface-hub<1.0,>=0.16.4 in ./.venv/lib/python3.12/site-packages (from tokenizers>=0.13.0->anthropic<1,>=0.30.0->langchain-anthropic) (0.25.1)\r\n",
      "Requirement already satisfied: mypy-extensions>=0.3.0 in ./.venv/lib/python3.12/site-packages (from typing-inspect<1,>=0.4.0->dataclasses-json<0.7,>=0.5.7->langchain-community) (1.0.0)\r\n",
      "Requirement already satisfied: filelock in ./.venv/lib/python3.12/site-packages (from huggingface-hub<1.0,>=0.16.4->tokenizers>=0.13.0->anthropic<1,>=0.30.0->langchain-anthropic) (3.16.1)\r\n",
      "Requirement already satisfied: fsspec>=2023.5.0 in ./.venv/lib/python3.12/site-packages (from huggingface-hub<1.0,>=0.16.4->tokenizers>=0.13.0->anthropic<1,>=0.30.0->langchain-anthropic) (2024.9.0)\r\n",
      "Requirement already satisfied: tqdm>=4.42.1 in ./.venv/lib/python3.12/site-packages (from huggingface-hub<1.0,>=0.16.4->tokenizers>=0.13.0->anthropic<1,>=0.30.0->langchain-anthropic) (4.66.5)\r\n",
      "Downloading langchain_community-0.3.2-py3-none-any.whl (2.4 MB)\r\n",
      "\u001B[2K   \u001B[90m━━━━━━━━━━━━━━━━━━━━━━━━━━━━━━━━━━━━━━━━\u001B[0m \u001B[32m2.4/2.4 MB\u001B[0m \u001B[31m4.4 MB/s\u001B[0m eta \u001B[36m0:00:00\u001B[0m00:01\u001B[0m00:01\u001B[0m\r\n",
      "\u001B[?25hDownloading langgraph-0.2.36-py3-none-any.whl (112 kB)\r\n",
      "\u001B[2K   \u001B[90m━━━━━━━━━━━━━━━━━━━━━━━━━━━━━━━━━━━━━━━━\u001B[0m \u001B[32m112.5/112.5 kB\u001B[0m \u001B[31m8.1 MB/s\u001B[0m eta \u001B[36m0:00:00\u001B[0m\r\n",
      "\u001B[?25hDownloading langchain_anthropic-0.2.3-py3-none-any.whl (21 kB)\r\n",
      "Downloading tavily_python-0.5.0-py3-none-any.whl (14 kB)\r\n",
      "Downloading langgraph_checkpoint_sqlite-2.0.0-py3-none-any.whl (12 kB)\r\n",
      "Downloading aiosqlite-0.20.0-py3-none-any.whl (15 kB)\r\n",
      "Downloading anthropic-0.36.0-py3-none-any.whl (939 kB)\r\n",
      "\u001B[2K   \u001B[90m━━━━━━━━━━━━━━━━━━━━━━━━━━━━━━━━━━━━━━━━\u001B[0m \u001B[32m939.7/939.7 kB\u001B[0m \u001B[31m6.1 MB/s\u001B[0m eta \u001B[36m0:00:00\u001B[0m00:01\u001B[0m00:01\u001B[0mm\r\n",
      "\u001B[?25hDownloading langchain-0.3.3-py3-none-any.whl (1.0 MB)\r\n",
      "\u001B[2K   \u001B[90m━━━━━━━━━━━━━━━━━━━━━━━━━━━━━━━━━━━━━━━━\u001B[0m \u001B[32m1.0/1.0 MB\u001B[0m \u001B[31m7.1 MB/s\u001B[0m eta \u001B[36m0:00:00\u001B[0m:00:01\u001B[0m00:01\u001B[0m\r\n",
      "\u001B[?25hDownloading langchain_core-0.3.10-py3-none-any.whl (404 kB)\r\n",
      "\u001B[2K   \u001B[90m━━━━━━━━━━━━━━━━━━━━━━━━━━━━━━━━━━━━━━━━\u001B[0m \u001B[32m404.4/404.4 kB\u001B[0m \u001B[31m5.3 MB/s\u001B[0m eta \u001B[36m0:00:00\u001B[0m:00:01\u001B[0m\r\n",
      "\u001B[?25hDownloading langgraph_checkpoint-2.0.1-py3-none-any.whl (22 kB)\r\n",
      "Downloading langgraph_sdk-0.1.33-py3-none-any.whl (28 kB)\r\n",
      "Downloading httpx_sse-0.4.0-py3-none-any.whl (7.8 kB)\r\n",
      "Using cached msgpack-1.1.0-cp312-cp312-manylinux_2_17_x86_64.manylinux2014_x86_64.whl (401 kB)\r\n",
      "Installing collected packages: msgpack, httpx-sse, aiosqlite, tavily-python, langgraph-sdk, langchain-core, anthropic, langgraph-checkpoint, langchain-anthropic, langgraph-checkpoint-sqlite, langgraph, langchain, langchain-community\r\n",
      "  Attempting uninstall: langchain-core\r\n",
      "    Found existing installation: langchain-core 0.3.9\r\n",
      "    Uninstalling langchain-core-0.3.9:\r\n",
      "      Successfully uninstalled langchain-core-0.3.9\r\n",
      "  Attempting uninstall: langchain\r\n",
      "    Found existing installation: langchain 0.3.2\r\n",
      "    Uninstalling langchain-0.3.2:\r\n",
      "      Successfully uninstalled langchain-0.3.2\r\n",
      "  Attempting uninstall: langchain-community\r\n",
      "    Found existing installation: langchain-community 0.3.1\r\n",
      "    Uninstalling langchain-community-0.3.1:\r\n",
      "      Successfully uninstalled langchain-community-0.3.1\r\n",
      "Successfully installed aiosqlite-0.20.0 anthropic-0.36.0 httpx-sse-0.4.0 langchain-0.3.3 langchain-anthropic-0.2.3 langchain-community-0.3.2 langchain-core-0.3.10 langgraph-0.2.36 langgraph-checkpoint-2.0.1 langgraph-checkpoint-sqlite-2.0.0 langgraph-sdk-0.1.33 msgpack-1.1.0 tavily-python-0.5.0\r\n",
      "\r\n",
      "\u001B[1m[\u001B[0m\u001B[34;49mnotice\u001B[0m\u001B[1;39;49m]\u001B[0m\u001B[39;49m A new release of pip is available: \u001B[0m\u001B[31;49m23.2.1\u001B[0m\u001B[39;49m -> \u001B[0m\u001B[32;49m24.2\u001B[0m\r\n",
      "\u001B[1m[\u001B[0m\u001B[34;49mnotice\u001B[0m\u001B[1;39;49m]\u001B[0m\u001B[39;49m To update, run: \u001B[0m\u001B[32;49mpip install --upgrade pip\u001B[0m\r\n",
      "Note: you may need to restart the kernel to use updated packages.\n"
     ]
    }
   ],
   "execution_count": 2
  },
  {
   "metadata": {
    "ExecuteTime": {
     "end_time": "2024-10-14T22:43:21.421374Z",
     "start_time": "2024-10-14T22:43:21.374906Z"
    }
   },
   "cell_type": "code",
   "source": [
    "from dotenv import load_dotenv\n",
    "\n",
    "load_dotenv()"
   ],
   "id": "23050b70518c4e6",
   "outputs": [
    {
     "data": {
      "text/plain": [
       "True"
      ]
     },
     "execution_count": 3,
     "metadata": {},
     "output_type": "execute_result"
    }
   ],
   "execution_count": 3
  },
  {
   "metadata": {
    "ExecuteTime": {
     "end_time": "2024-10-14T22:47:54.607555Z",
     "start_time": "2024-10-14T22:47:46.358Z"
    }
   },
   "cell_type": "code",
   "source": [
    "from langchain_community.tools.tavily_search import TavilySearchResults\n",
    "\n",
    "search = TavilySearchResults(max_results=2)\n",
    "search_results = search.invoke(\"what is the weather in SF?\")\n",
    "print(search_results)\n",
    "# If we want, we can create other tools.\n",
    "# Once we have all the tools we want, we can put them in a list that we will reference later.\n",
    "tools = [search]"
   ],
   "id": "e52cef661dfac46d",
   "outputs": [
    {
     "name": "stdout",
     "output_type": "stream",
     "text": [
      "[{'url': 'https://www.weatherapi.com/', 'content': \"{'location': {'name': 'San Francisco', 'region': 'California', 'country': 'United States of America', 'lat': 37.775, 'lon': -122.4183, 'tz_id': 'America/Los_Angeles', 'localtime_epoch': 1728946024, 'localtime': '2024-10-14 15:47'}, 'current': {'last_updated_epoch': 1728945900, 'last_updated': '2024-10-14 15:45', 'temp_c': 14.3, 'temp_f': 57.7, 'is_day': 1, 'condition': {'text': 'Overcast', 'icon': '//cdn.weatherapi.com/weather/64x64/day/122.png', 'code': 1009}, 'wind_mph': 8.7, 'wind_kph': 14.0, 'wind_degree': 255, 'wind_dir': 'WSW', 'pressure_mb': 1020.0, 'pressure_in': 30.11, 'precip_mm': 0.0, 'precip_in': 0.0, 'humidity': 100, 'cloud': 100, 'feelslike_c': 13.3, 'feelslike_f': 56.0, 'windchill_c': 13.9, 'windchill_f': 57.1, 'heatindex_c': 14.6, 'heatindex_f': 58.2, 'dewpoint_c': 13.3, 'dewpoint_f': 56.0, 'vis_km': 11.0, 'vis_miles': 6.0, 'uv': 3.3, 'gust_mph': 11.1, 'gust_kph': 17.9}}\"}, {'url': 'https://www.youtube.com/watch?v=gXufiB7jWb4', 'content': '10 hours ago · October 14, 2024 San Francisco Bay Area weather forecast ; An emotional Obama makes his ...Duration: 1:52Posted: 10 hours ago'}]\n"
     ]
    }
   ],
   "execution_count": 7
  },
  {
   "metadata": {
    "ExecuteTime": {
     "end_time": "2024-10-14T22:50:31.810804Z",
     "start_time": "2024-10-14T22:50:27.479670Z"
    }
   },
   "cell_type": "code",
   "source": "pip install -qU langchain-openai",
   "id": "c86bc549eb662840",
   "outputs": [
    {
     "name": "stdout",
     "output_type": "stream",
     "text": [
      "\r\n",
      "\u001B[1m[\u001B[0m\u001B[34;49mnotice\u001B[0m\u001B[1;39;49m]\u001B[0m\u001B[39;49m A new release of pip is available: \u001B[0m\u001B[31;49m23.2.1\u001B[0m\u001B[39;49m -> \u001B[0m\u001B[32;49m24.2\u001B[0m\r\n",
      "\u001B[1m[\u001B[0m\u001B[34;49mnotice\u001B[0m\u001B[1;39;49m]\u001B[0m\u001B[39;49m To update, run: \u001B[0m\u001B[32;49mpip install --upgrade pip\u001B[0m\r\n",
      "Note: you may need to restart the kernel to use updated packages.\n"
     ]
    }
   ],
   "execution_count": 8
  },
  {
   "metadata": {
    "ExecuteTime": {
     "end_time": "2024-10-14T22:57:36.421939Z",
     "start_time": "2024-10-14T22:57:36.292533Z"
    }
   },
   "cell_type": "code",
   "source": [
    "from langchain_openai import ChatOpenAI\n",
    "\n",
    "model = ChatOpenAI(model=\"gpt-4o\")"
   ],
   "id": "68d08220a376497d",
   "outputs": [],
   "execution_count": 13
  },
  {
   "metadata": {
    "ExecuteTime": {
     "end_time": "2024-10-14T22:57:38.307608Z",
     "start_time": "2024-10-14T22:57:37.397070Z"
    }
   },
   "cell_type": "code",
   "source": [
    "from langchain_core.messages import HumanMessage\n",
    "\n",
    "response = model.invoke([HumanMessage(content=\"hi!\")])\n",
    "response.content"
   ],
   "id": "67baf73e7bee36a5",
   "outputs": [
    {
     "data": {
      "text/plain": [
       "'Hello! How can I assist you today?'"
      ]
     },
     "execution_count": 14,
     "metadata": {},
     "output_type": "execute_result"
    }
   ],
   "execution_count": 14
  },
  {
   "metadata": {},
   "cell_type": "code",
   "outputs": [],
   "execution_count": null,
   "source": "",
   "id": "b3db7ab0cabe7069"
  }
 ],
 "metadata": {
  "kernelspec": {
   "display_name": "Python 3",
   "language": "python",
   "name": "python3"
  },
  "language_info": {
   "codemirror_mode": {
    "name": "ipython",
    "version": 2
   },
   "file_extension": ".py",
   "mimetype": "text/x-python",
   "name": "python",
   "nbconvert_exporter": "python",
   "pygments_lexer": "ipython2",
   "version": "2.7.6"
  }
 },
 "nbformat": 4,
 "nbformat_minor": 5
}
